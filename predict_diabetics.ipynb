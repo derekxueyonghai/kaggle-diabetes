{
  "cells": [
    {
      "cell_type": "code",
      "execution_count": 1,
      "id": "a8d57b29",
      "metadata": {
        "execution": {
          "iopub.execute_input": "2023-02-21T07:51:16.062681Z",
          "iopub.status.busy": "2023-02-21T07:51:16.062073Z",
          "iopub.status.idle": "2023-02-21T07:51:17.130591Z",
          "shell.execute_reply": "2023-02-21T07:51:17.129040Z"
        },
        "id": "a8d57b29",
        "papermill": {
          "duration": 1.086187,
          "end_time": "2023-02-21T07:51:17.133643",
          "exception": false,
          "start_time": "2023-02-21T07:51:16.047456",
          "status": "completed"
        },
        "tags": []
      },
      "outputs": [],
      "source": [
        "import pandas as pd \n",
        "import matplotlib.pyplot as plt\n",
        "import seaborn as sns"
      ]
    },
    {
      "cell_type": "code",
      "source": [
        "from google.colab import drive\n",
        "drive.mount('/content/drive')"
      ],
      "metadata": {
        "colab": {
          "base_uri": "https://localhost:8080/"
        },
        "id": "U1c8XHwBcSnz",
        "outputId": "c3b8ca46-69bb-485d-aee6-e1183b651640"
      },
      "id": "U1c8XHwBcSnz",
      "execution_count": 2,
      "outputs": [
        {
          "output_type": "stream",
          "name": "stdout",
          "text": [
            "Mounted at /content/drive\n"
          ]
        }
      ]
    },
    {
      "cell_type": "code",
      "source": [
        "import os\n",
        "\n",
        "os.chdir('/content/drive/MyDrive/Colab Notebooks/diabetes-prediction')"
      ],
      "metadata": {
        "id": "ikymiMEqcK4v"
      },
      "id": "ikymiMEqcK4v",
      "execution_count": 3,
      "outputs": []
    },
    {
      "cell_type": "code",
      "execution_count": 4,
      "id": "b095a55e",
      "metadata": {
        "execution": {
          "iopub.execute_input": "2023-02-21T07:51:17.153202Z",
          "iopub.status.busy": "2023-02-21T07:51:17.152771Z",
          "iopub.status.idle": "2023-02-21T07:51:17.178164Z",
          "shell.execute_reply": "2023-02-21T07:51:17.176922Z"
        },
        "id": "b095a55e",
        "papermill": {
          "duration": 0.038291,
          "end_time": "2023-02-21T07:51:17.180976",
          "exception": false,
          "start_time": "2023-02-21T07:51:17.142685",
          "status": "completed"
        },
        "tags": []
      },
      "outputs": [],
      "source": [
        "data = pd.read_csv('diabetes.csv')"
      ]
    },
    {
      "cell_type": "code",
      "execution_count": 5,
      "id": "34222886",
      "metadata": {
        "execution": {
          "iopub.execute_input": "2023-02-21T07:51:17.201236Z",
          "iopub.status.busy": "2023-02-21T07:51:17.200844Z",
          "iopub.status.idle": "2023-02-21T07:51:17.231605Z",
          "shell.execute_reply": "2023-02-21T07:51:17.230205Z"
        },
        "id": "34222886",
        "outputId": "48e0102e-21ec-4a7b-acc5-eae6adc7db86",
        "papermill": {
          "duration": 0.04423,
          "end_time": "2023-02-21T07:51:17.234172",
          "exception": false,
          "start_time": "2023-02-21T07:51:17.189942",
          "status": "completed"
        },
        "tags": [],
        "colab": {
          "base_uri": "https://localhost:8080/",
          "height": 424
        }
      },
      "outputs": [
        {
          "output_type": "execute_result",
          "data": {
            "text/plain": [
              "     Pregnancies  Glucose  BloodPressure  SkinThickness  Insulin   BMI  \\\n",
              "0              6      148             72             35        0  33.6   \n",
              "1              1       85             66             29        0  26.6   \n",
              "2              8      183             64              0        0  23.3   \n",
              "3              1       89             66             23       94  28.1   \n",
              "4              0      137             40             35      168  43.1   \n",
              "..           ...      ...            ...            ...      ...   ...   \n",
              "763           10      101             76             48      180  32.9   \n",
              "764            2      122             70             27        0  36.8   \n",
              "765            5      121             72             23      112  26.2   \n",
              "766            1      126             60              0        0  30.1   \n",
              "767            1       93             70             31        0  30.4   \n",
              "\n",
              "     DiabetesPedigreeFunction  Age  Outcome  \n",
              "0                       0.627   50        1  \n",
              "1                       0.351   31        0  \n",
              "2                       0.672   32        1  \n",
              "3                       0.167   21        0  \n",
              "4                       2.288   33        1  \n",
              "..                        ...  ...      ...  \n",
              "763                     0.171   63        0  \n",
              "764                     0.340   27        0  \n",
              "765                     0.245   30        0  \n",
              "766                     0.349   47        1  \n",
              "767                     0.315   23        0  \n",
              "\n",
              "[768 rows x 9 columns]"
            ],
            "text/html": [
              "\n",
              "  <div id=\"df-175c690d-0a0c-4d4e-85c6-c32732d5e9ed\">\n",
              "    <div class=\"colab-df-container\">\n",
              "      <div>\n",
              "<style scoped>\n",
              "    .dataframe tbody tr th:only-of-type {\n",
              "        vertical-align: middle;\n",
              "    }\n",
              "\n",
              "    .dataframe tbody tr th {\n",
              "        vertical-align: top;\n",
              "    }\n",
              "\n",
              "    .dataframe thead th {\n",
              "        text-align: right;\n",
              "    }\n",
              "</style>\n",
              "<table border=\"1\" class=\"dataframe\">\n",
              "  <thead>\n",
              "    <tr style=\"text-align: right;\">\n",
              "      <th></th>\n",
              "      <th>Pregnancies</th>\n",
              "      <th>Glucose</th>\n",
              "      <th>BloodPressure</th>\n",
              "      <th>SkinThickness</th>\n",
              "      <th>Insulin</th>\n",
              "      <th>BMI</th>\n",
              "      <th>DiabetesPedigreeFunction</th>\n",
              "      <th>Age</th>\n",
              "      <th>Outcome</th>\n",
              "    </tr>\n",
              "  </thead>\n",
              "  <tbody>\n",
              "    <tr>\n",
              "      <th>0</th>\n",
              "      <td>6</td>\n",
              "      <td>148</td>\n",
              "      <td>72</td>\n",
              "      <td>35</td>\n",
              "      <td>0</td>\n",
              "      <td>33.6</td>\n",
              "      <td>0.627</td>\n",
              "      <td>50</td>\n",
              "      <td>1</td>\n",
              "    </tr>\n",
              "    <tr>\n",
              "      <th>1</th>\n",
              "      <td>1</td>\n",
              "      <td>85</td>\n",
              "      <td>66</td>\n",
              "      <td>29</td>\n",
              "      <td>0</td>\n",
              "      <td>26.6</td>\n",
              "      <td>0.351</td>\n",
              "      <td>31</td>\n",
              "      <td>0</td>\n",
              "    </tr>\n",
              "    <tr>\n",
              "      <th>2</th>\n",
              "      <td>8</td>\n",
              "      <td>183</td>\n",
              "      <td>64</td>\n",
              "      <td>0</td>\n",
              "      <td>0</td>\n",
              "      <td>23.3</td>\n",
              "      <td>0.672</td>\n",
              "      <td>32</td>\n",
              "      <td>1</td>\n",
              "    </tr>\n",
              "    <tr>\n",
              "      <th>3</th>\n",
              "      <td>1</td>\n",
              "      <td>89</td>\n",
              "      <td>66</td>\n",
              "      <td>23</td>\n",
              "      <td>94</td>\n",
              "      <td>28.1</td>\n",
              "      <td>0.167</td>\n",
              "      <td>21</td>\n",
              "      <td>0</td>\n",
              "    </tr>\n",
              "    <tr>\n",
              "      <th>4</th>\n",
              "      <td>0</td>\n",
              "      <td>137</td>\n",
              "      <td>40</td>\n",
              "      <td>35</td>\n",
              "      <td>168</td>\n",
              "      <td>43.1</td>\n",
              "      <td>2.288</td>\n",
              "      <td>33</td>\n",
              "      <td>1</td>\n",
              "    </tr>\n",
              "    <tr>\n",
              "      <th>...</th>\n",
              "      <td>...</td>\n",
              "      <td>...</td>\n",
              "      <td>...</td>\n",
              "      <td>...</td>\n",
              "      <td>...</td>\n",
              "      <td>...</td>\n",
              "      <td>...</td>\n",
              "      <td>...</td>\n",
              "      <td>...</td>\n",
              "    </tr>\n",
              "    <tr>\n",
              "      <th>763</th>\n",
              "      <td>10</td>\n",
              "      <td>101</td>\n",
              "      <td>76</td>\n",
              "      <td>48</td>\n",
              "      <td>180</td>\n",
              "      <td>32.9</td>\n",
              "      <td>0.171</td>\n",
              "      <td>63</td>\n",
              "      <td>0</td>\n",
              "    </tr>\n",
              "    <tr>\n",
              "      <th>764</th>\n",
              "      <td>2</td>\n",
              "      <td>122</td>\n",
              "      <td>70</td>\n",
              "      <td>27</td>\n",
              "      <td>0</td>\n",
              "      <td>36.8</td>\n",
              "      <td>0.340</td>\n",
              "      <td>27</td>\n",
              "      <td>0</td>\n",
              "    </tr>\n",
              "    <tr>\n",
              "      <th>765</th>\n",
              "      <td>5</td>\n",
              "      <td>121</td>\n",
              "      <td>72</td>\n",
              "      <td>23</td>\n",
              "      <td>112</td>\n",
              "      <td>26.2</td>\n",
              "      <td>0.245</td>\n",
              "      <td>30</td>\n",
              "      <td>0</td>\n",
              "    </tr>\n",
              "    <tr>\n",
              "      <th>766</th>\n",
              "      <td>1</td>\n",
              "      <td>126</td>\n",
              "      <td>60</td>\n",
              "      <td>0</td>\n",
              "      <td>0</td>\n",
              "      <td>30.1</td>\n",
              "      <td>0.349</td>\n",
              "      <td>47</td>\n",
              "      <td>1</td>\n",
              "    </tr>\n",
              "    <tr>\n",
              "      <th>767</th>\n",
              "      <td>1</td>\n",
              "      <td>93</td>\n",
              "      <td>70</td>\n",
              "      <td>31</td>\n",
              "      <td>0</td>\n",
              "      <td>30.4</td>\n",
              "      <td>0.315</td>\n",
              "      <td>23</td>\n",
              "      <td>0</td>\n",
              "    </tr>\n",
              "  </tbody>\n",
              "</table>\n",
              "<p>768 rows × 9 columns</p>\n",
              "</div>\n",
              "      <button class=\"colab-df-convert\" onclick=\"convertToInteractive('df-175c690d-0a0c-4d4e-85c6-c32732d5e9ed')\"\n",
              "              title=\"Convert this dataframe to an interactive table.\"\n",
              "              style=\"display:none;\">\n",
              "        \n",
              "  <svg xmlns=\"http://www.w3.org/2000/svg\" height=\"24px\"viewBox=\"0 0 24 24\"\n",
              "       width=\"24px\">\n",
              "    <path d=\"M0 0h24v24H0V0z\" fill=\"none\"/>\n",
              "    <path d=\"M18.56 5.44l.94 2.06.94-2.06 2.06-.94-2.06-.94-.94-2.06-.94 2.06-2.06.94zm-11 1L8.5 8.5l.94-2.06 2.06-.94-2.06-.94L8.5 2.5l-.94 2.06-2.06.94zm10 10l.94 2.06.94-2.06 2.06-.94-2.06-.94-.94-2.06-.94 2.06-2.06.94z\"/><path d=\"M17.41 7.96l-1.37-1.37c-.4-.4-.92-.59-1.43-.59-.52 0-1.04.2-1.43.59L10.3 9.45l-7.72 7.72c-.78.78-.78 2.05 0 2.83L4 21.41c.39.39.9.59 1.41.59.51 0 1.02-.2 1.41-.59l7.78-7.78 2.81-2.81c.8-.78.8-2.07 0-2.86zM5.41 20L4 18.59l7.72-7.72 1.47 1.35L5.41 20z\"/>\n",
              "  </svg>\n",
              "      </button>\n",
              "      \n",
              "  <style>\n",
              "    .colab-df-container {\n",
              "      display:flex;\n",
              "      flex-wrap:wrap;\n",
              "      gap: 12px;\n",
              "    }\n",
              "\n",
              "    .colab-df-convert {\n",
              "      background-color: #E8F0FE;\n",
              "      border: none;\n",
              "      border-radius: 50%;\n",
              "      cursor: pointer;\n",
              "      display: none;\n",
              "      fill: #1967D2;\n",
              "      height: 32px;\n",
              "      padding: 0 0 0 0;\n",
              "      width: 32px;\n",
              "    }\n",
              "\n",
              "    .colab-df-convert:hover {\n",
              "      background-color: #E2EBFA;\n",
              "      box-shadow: 0px 1px 2px rgba(60, 64, 67, 0.3), 0px 1px 3px 1px rgba(60, 64, 67, 0.15);\n",
              "      fill: #174EA6;\n",
              "    }\n",
              "\n",
              "    [theme=dark] .colab-df-convert {\n",
              "      background-color: #3B4455;\n",
              "      fill: #D2E3FC;\n",
              "    }\n",
              "\n",
              "    [theme=dark] .colab-df-convert:hover {\n",
              "      background-color: #434B5C;\n",
              "      box-shadow: 0px 1px 3px 1px rgba(0, 0, 0, 0.15);\n",
              "      filter: drop-shadow(0px 1px 2px rgba(0, 0, 0, 0.3));\n",
              "      fill: #FFFFFF;\n",
              "    }\n",
              "  </style>\n",
              "\n",
              "      <script>\n",
              "        const buttonEl =\n",
              "          document.querySelector('#df-175c690d-0a0c-4d4e-85c6-c32732d5e9ed button.colab-df-convert');\n",
              "        buttonEl.style.display =\n",
              "          google.colab.kernel.accessAllowed ? 'block' : 'none';\n",
              "\n",
              "        async function convertToInteractive(key) {\n",
              "          const element = document.querySelector('#df-175c690d-0a0c-4d4e-85c6-c32732d5e9ed');\n",
              "          const dataTable =\n",
              "            await google.colab.kernel.invokeFunction('convertToInteractive',\n",
              "                                                     [key], {});\n",
              "          if (!dataTable) return;\n",
              "\n",
              "          const docLinkHtml = 'Like what you see? Visit the ' +\n",
              "            '<a target=\"_blank\" href=https://colab.research.google.com/notebooks/data_table.ipynb>data table notebook</a>'\n",
              "            + ' to learn more about interactive tables.';\n",
              "          element.innerHTML = '';\n",
              "          dataTable['output_type'] = 'display_data';\n",
              "          await google.colab.output.renderOutput(dataTable, element);\n",
              "          const docLink = document.createElement('div');\n",
              "          docLink.innerHTML = docLinkHtml;\n",
              "          element.appendChild(docLink);\n",
              "        }\n",
              "      </script>\n",
              "    </div>\n",
              "  </div>\n",
              "  "
            ]
          },
          "metadata": {},
          "execution_count": 5
        }
      ],
      "source": [
        "data"
      ]
    },
    {
      "cell_type": "markdown",
      "id": "9c8577e3",
      "metadata": {
        "id": "9c8577e3"
      },
      "source": [
        "Diabetes Pedigree Function:   \n",
        "indicates the function which scores likelihood of diabetes based on family history. "
      ]
    },
    {
      "cell_type": "code",
      "execution_count": 6,
      "id": "ef39f7f1",
      "metadata": {
        "execution": {
          "iopub.execute_input": "2023-02-21T07:51:17.254667Z",
          "iopub.status.busy": "2023-02-21T07:51:17.254242Z",
          "iopub.status.idle": "2023-02-21T07:51:17.281941Z",
          "shell.execute_reply": "2023-02-21T07:51:17.280866Z"
        },
        "id": "ef39f7f1",
        "outputId": "a75f0dc2-f546-4c9c-fe45-70596f4befdf",
        "papermill": {
          "duration": 0.041539,
          "end_time": "2023-02-21T07:51:17.285092",
          "exception": false,
          "start_time": "2023-02-21T07:51:17.243553",
          "status": "completed"
        },
        "tags": [],
        "colab": {
          "base_uri": "https://localhost:8080/"
        }
      },
      "outputs": [
        {
          "output_type": "stream",
          "name": "stdout",
          "text": [
            "<class 'pandas.core.frame.DataFrame'>\n",
            "RangeIndex: 768 entries, 0 to 767\n",
            "Data columns (total 9 columns):\n",
            " #   Column                    Non-Null Count  Dtype  \n",
            "---  ------                    --------------  -----  \n",
            " 0   Pregnancies               768 non-null    int64  \n",
            " 1   Glucose                   768 non-null    int64  \n",
            " 2   BloodPressure             768 non-null    int64  \n",
            " 3   SkinThickness             768 non-null    int64  \n",
            " 4   Insulin                   768 non-null    int64  \n",
            " 5   BMI                       768 non-null    float64\n",
            " 6   DiabetesPedigreeFunction  768 non-null    float64\n",
            " 7   Age                       768 non-null    int64  \n",
            " 8   Outcome                   768 non-null    int64  \n",
            "dtypes: float64(2), int64(7)\n",
            "memory usage: 54.1 KB\n"
          ]
        }
      ],
      "source": [
        "data.info()"
      ]
    },
    {
      "cell_type": "code",
      "execution_count": 7,
      "id": "e936fb60",
      "metadata": {
        "execution": {
          "iopub.execute_input": "2023-02-21T07:51:17.306639Z",
          "iopub.status.busy": "2023-02-21T07:51:17.306199Z",
          "iopub.status.idle": "2023-02-21T07:51:17.316412Z",
          "shell.execute_reply": "2023-02-21T07:51:17.315207Z"
        },
        "id": "e936fb60",
        "outputId": "d900dc20-c10c-4c8c-cf8c-7e13c7e79db7",
        "papermill": {
          "duration": 0.023169,
          "end_time": "2023-02-21T07:51:17.318811",
          "exception": false,
          "start_time": "2023-02-21T07:51:17.295642",
          "status": "completed"
        },
        "tags": [],
        "colab": {
          "base_uri": "https://localhost:8080/"
        }
      },
      "outputs": [
        {
          "output_type": "execute_result",
          "data": {
            "text/plain": [
              "Pregnancies                 0\n",
              "Glucose                     0\n",
              "BloodPressure               0\n",
              "SkinThickness               0\n",
              "Insulin                     0\n",
              "BMI                         0\n",
              "DiabetesPedigreeFunction    0\n",
              "Age                         0\n",
              "Outcome                     0\n",
              "dtype: int64"
            ]
          },
          "metadata": {},
          "execution_count": 7
        }
      ],
      "source": [
        "data.isnull().sum()"
      ]
    },
    {
      "cell_type": "code",
      "execution_count": 8,
      "id": "9e7a9bb1",
      "metadata": {
        "execution": {
          "iopub.execute_input": "2023-02-21T07:51:17.340003Z",
          "iopub.status.busy": "2023-02-21T07:51:17.339476Z",
          "iopub.status.idle": "2023-02-21T07:51:17.605940Z",
          "shell.execute_reply": "2023-02-21T07:51:17.604655Z"
        },
        "id": "9e7a9bb1",
        "outputId": "ebc29fae-f391-4d54-ea7f-1f2bc11950c0",
        "papermill": {
          "duration": 0.280342,
          "end_time": "2023-02-21T07:51:17.608622",
          "exception": false,
          "start_time": "2023-02-21T07:51:17.328280",
          "status": "completed"
        },
        "tags": [],
        "colab": {
          "base_uri": "https://localhost:8080/",
          "height": 467
        }
      },
      "outputs": [
        {
          "output_type": "execute_result",
          "data": {
            "text/plain": [
              "<Axes: xlabel='Outcome', ylabel='count'>"
            ]
          },
          "metadata": {},
          "execution_count": 8
        },
        {
          "output_type": "display_data",
          "data": {
            "text/plain": [
              "<Figure size 640x480 with 1 Axes>"
            ],
            "image/png": "[encoded data removed]"
          },
          "metadata": {}
        }
      ],
      "source": [
        "# Number of people with diabetes\n",
        "sns.set_style('whitegrid')\n",
        "sns.countplot(x = 'Outcome', data=data)"
      ]
    },
    {
      "cell_type": "code",
      "execution_count": 9,
      "id": "7af4a85d",
      "metadata": {
        "execution": {
          "iopub.execute_input": "2023-02-21T07:51:17.631310Z",
          "iopub.status.busy": "2023-02-21T07:51:17.630891Z",
          "iopub.status.idle": "2023-02-21T07:51:18.144227Z",
          "shell.execute_reply": "2023-02-21T07:51:18.142981Z"
        },
        "id": "7af4a85d",
        "outputId": "e7fe27cf-112f-44d2-968b-b6be7a6318ff",
        "papermill": {
          "duration": 0.527556,
          "end_time": "2023-02-21T07:51:18.146966",
          "exception": false,
          "start_time": "2023-02-21T07:51:17.619410",
          "status": "completed"
        },
        "tags": [],
        "colab": {
          "base_uri": "https://localhost:8080/",
          "height": 525
        }
      },
      "outputs": [
        {
          "output_type": "execute_result",
          "data": {
            "text/plain": [
              "<seaborn.axisgrid.FacetGrid at 0x7f2678eb6e90>"
            ]
          },
          "metadata": {},
          "execution_count": 9
        },
        {
          "output_type": "display_data",
          "data": {
            "text/plain": [
              "<Figure size 500x500 with 1 Axes>"
            ],
            "image/png": "[encoded data removed]"
          },
          "metadata": {}
        }
      ],
      "source": [
        "# Consider the age of diabetes\n",
        "sns.displot(data['Age'], kde=False)"
      ]
    },
    {
      "cell_type": "code",
      "execution_count": 10,
      "id": "03b519da",
      "metadata": {
        "execution": {
          "iopub.execute_input": "2023-02-21T07:51:18.169204Z",
          "iopub.status.busy": "2023-02-21T07:51:18.168795Z",
          "iopub.status.idle": "2023-02-21T07:51:18.669134Z",
          "shell.execute_reply": "2023-02-21T07:51:18.667973Z"
        },
        "id": "03b519da",
        "outputId": "966b619c-6dc7-4498-8511-0a575d9fc0c9",
        "papermill": {
          "duration": 0.514346,
          "end_time": "2023-02-21T07:51:18.671612",
          "exception": false,
          "start_time": "2023-02-21T07:51:18.157266",
          "status": "completed"
        },
        "tags": [],
        "colab": {
          "base_uri": "https://localhost:8080/",
          "height": 524
        }
      },
      "outputs": [
        {
          "output_type": "execute_result",
          "data": {
            "text/plain": [
              "<seaborn.axisgrid.FacetGrid at 0x7f26ae4ddd80>"
            ]
          },
          "metadata": {},
          "execution_count": 10
        },
        {
          "output_type": "display_data",
          "data": {
            "text/plain": [
              "<Figure size 500x500 with 1 Axes>"
            ],
            "image/png": "[encoded data removed]"
          },
          "metadata": {}
        }
      ],
      "source": [
        "# Number of Pregnancy Pregnancies\n",
        "sns.displot(data['Pregnancies'], kde=False)"
      ]
    },
    {
      "cell_type": "code",
      "execution_count": 11,
      "id": "655ccac0",
      "metadata": {
        "execution": {
          "iopub.execute_input": "2023-02-21T07:51:18.694597Z",
          "iopub.status.busy": "2023-02-21T07:51:18.694138Z",
          "iopub.status.idle": "2023-02-21T07:51:20.268818Z",
          "shell.execute_reply": "2023-02-21T07:51:20.267505Z"
        },
        "id": "655ccac0",
        "outputId": "067ee1c0-de53-4e2e-92f7-a93902916e91",
        "papermill": {
          "duration": 1.589148,
          "end_time": "2023-02-21T07:51:20.271419",
          "exception": false,
          "start_time": "2023-02-21T07:51:18.682271",
          "status": "completed"
        },
        "tags": [],
        "colab": {
          "base_uri": "https://localhost:8080/",
          "height": 472
        }
      },
      "outputs": [
        {
          "output_type": "display_data",
          "data": {
            "text/plain": [
              "<Figure size 640x480 with 1 Axes>"
            ],
            "image/png": "[encoded data removed]"
          },
          "metadata": {}
        }
      ],
      "source": [
        "# BMI according to age\n",
        "x = data['BMI']\n",
        "y = data['Age']\n",
        "plt.title('BMI to Age')\n",
        "plt.xlabel('BMI')\n",
        "plt.ylabel('Age')\n",
        "plt.bar(x,y,width = 4)\n",
        "plt.show()"
      ]
    },
    {
      "cell_type": "code",
      "execution_count": 12,
      "id": "22eb1bbb",
      "metadata": {
        "execution": {
          "iopub.execute_input": "2023-02-21T07:51:20.295973Z",
          "iopub.status.busy": "2023-02-21T07:51:20.295525Z",
          "iopub.status.idle": "2023-02-21T07:51:20.730774Z",
          "shell.execute_reply": "2023-02-21T07:51:20.729564Z"
        },
        "id": "22eb1bbb",
        "outputId": "2a6ce5c0-b5ae-49bb-da04-aa9f96698857",
        "papermill": {
          "duration": 0.450496,
          "end_time": "2023-02-21T07:51:20.733432",
          "exception": false,
          "start_time": "2023-02-21T07:51:20.282936",
          "status": "completed"
        },
        "tags": [],
        "colab": {
          "base_uri": "https://localhost:8080/",
          "height": 472
        }
      },
      "outputs": [
        {
          "output_type": "display_data",
          "data": {
            "text/plain": [
              "<Figure size 640x480 with 1 Axes>"
            ],
            "image/png": "[encoded data removed]"
          },
          "metadata": {}
        }
      ],
      "source": [
        "x_age = data['Age']\n",
        "y_Pregnancies = data['Pregnancies']\n",
        "plt.title('Age and Pregnancies')\n",
        "plt.xlabel('Age')\n",
        "plt.ylabel('Pregnancies')\n",
        "plt.scatter(x_age,y_Pregnancies,)\n",
        "plt.show()"
      ]
    },
    {
      "cell_type": "code",
      "execution_count": 13,
      "id": "08622a57",
      "metadata": {
        "execution": {
          "iopub.execute_input": "2023-02-21T07:51:20.759302Z",
          "iopub.status.busy": "2023-02-21T07:51:20.758850Z",
          "iopub.status.idle": "2023-02-21T07:51:21.225658Z",
          "shell.execute_reply": "2023-02-21T07:51:21.224307Z"
        },
        "id": "08622a57",
        "outputId": "2b94cb9f-f36e-46b5-9c69-b3d36d981e90",
        "papermill": {
          "duration": 0.482532,
          "end_time": "2023-02-21T07:51:21.228278",
          "exception": false,
          "start_time": "2023-02-21T07:51:20.745746",
          "status": "completed"
        },
        "tags": [],
        "colab": {
          "base_uri": "https://localhost:8080/",
          "height": 486
        }
      },
      "outputs": [
        {
          "output_type": "execute_result",
          "data": {
            "text/plain": [
              "<Axes: xlabel='Outcome', ylabel='count'>"
            ]
          },
          "metadata": {},
          "execution_count": 13
        },
        {
          "output_type": "display_data",
          "data": {
            "text/plain": [
              "<Figure size 640x480 with 1 Axes>"
            ],
            "image/png": "[encoded data removed]"
          },
          "metadata": {}
        }
      ],
      "source": [
        "# The amount of pregnancy in the body linked to diabetes\n",
        "sns.countplot(x='Outcome', hue = 'Pregnancies', data = data)"
      ]
    },
    {
      "cell_type": "code",
      "execution_count": 14,
      "id": "4468f3fa",
      "metadata": {
        "execution": {
          "iopub.execute_input": "2023-02-21T07:51:21.257077Z",
          "iopub.status.busy": "2023-02-21T07:51:21.255831Z",
          "iopub.status.idle": "2023-02-21T07:51:21.274047Z",
          "shell.execute_reply": "2023-02-21T07:51:21.272707Z"
        },
        "id": "4468f3fa",
        "papermill": {
          "duration": 0.034526,
          "end_time": "2023-02-21T07:51:21.276693",
          "exception": false,
          "start_time": "2023-02-21T07:51:21.242167",
          "status": "completed"
        },
        "tags": []
      },
      "outputs": [],
      "source": [
        "data_1 = []\n",
        "for i in range (0,len(data['Age'])):\n",
        "  if(data['Outcome'].iloc[i] == 1):\n",
        "    data_1.append(data['Age'].iloc[i])"
      ]
    },
    {
      "cell_type": "code",
      "execution_count": 15,
      "id": "92279132",
      "metadata": {
        "execution": {
          "iopub.execute_input": "2023-02-21T07:51:21.303769Z",
          "iopub.status.busy": "2023-02-21T07:51:21.303332Z",
          "iopub.status.idle": "2023-02-21T07:51:21.310829Z",
          "shell.execute_reply": "2023-02-21T07:51:21.309719Z"
        },
        "id": "92279132",
        "outputId": "cccc7655-0fe2-45e9-f1ee-4905007a79e3",
        "papermill": {
          "duration": 0.024043,
          "end_time": "2023-02-21T07:51:21.313238",
          "exception": false,
          "start_time": "2023-02-21T07:51:21.289195",
          "status": "completed"
        },
        "tags": [],
        "colab": {
          "base_uri": "https://localhost:8080/"
        }
      },
      "outputs": [
        {
          "output_type": "execute_result",
          "data": {
            "text/plain": [
              "37.06716417910448"
            ]
          },
          "metadata": {},
          "execution_count": 15
        }
      ],
      "source": [
        "# The average age of confirmed cases\n",
        "import numpy as np\n",
        "np.mean(data_1)"
      ]
    },
    {
      "cell_type": "code",
      "execution_count": 16,
      "id": "20b284d7",
      "metadata": {
        "execution": {
          "iopub.execute_input": "2023-02-21T07:51:21.341199Z",
          "iopub.status.busy": "2023-02-21T07:51:21.340809Z",
          "iopub.status.idle": "2023-02-21T07:51:21.347853Z",
          "shell.execute_reply": "2023-02-21T07:51:21.346661Z"
        },
        "id": "20b284d7",
        "outputId": "576884f4-cae9-47ea-f10d-d2ab1ce8a9f2",
        "papermill": {
          "duration": 0.024336,
          "end_time": "2023-02-21T07:51:21.350196",
          "exception": false,
          "start_time": "2023-02-21T07:51:21.325860",
          "status": "completed"
        },
        "tags": [],
        "colab": {
          "base_uri": "https://localhost:8080/"
        }
      },
      "outputs": [
        {
          "output_type": "execute_result",
          "data": {
            "text/plain": [
              "Index(['Pregnancies', 'Glucose', 'BloodPressure', 'SkinThickness', 'Insulin',\n",
              "       'BMI', 'DiabetesPedigreeFunction', 'Age', 'Outcome'],\n",
              "      dtype='object')"
            ]
          },
          "metadata": {},
          "execution_count": 16
        }
      ],
      "source": [
        "data.columns"
      ]
    },
    {
      "cell_type": "code",
      "execution_count": 17,
      "id": "560b09c0",
      "metadata": {
        "execution": {
          "iopub.execute_input": "2023-02-21T07:51:21.377983Z",
          "iopub.status.busy": "2023-02-21T07:51:21.377520Z",
          "iopub.status.idle": "2023-02-21T07:51:21.420499Z",
          "shell.execute_reply": "2023-02-21T07:51:21.418934Z"
        },
        "id": "560b09c0",
        "outputId": "0a385cda-2403-4c74-be5b-fa2cc59ea691",
        "papermill": {
          "duration": 0.060402,
          "end_time": "2023-02-21T07:51:21.423257",
          "exception": false,
          "start_time": "2023-02-21T07:51:21.362855",
          "status": "completed"
        },
        "tags": [],
        "colab": {
          "base_uri": "https://localhost:8080/"
        }
      },
      "outputs": [
        {
          "output_type": "stream",
          "name": "stdout",
          "text": [
            "Mean of Pregnancies, Glucose, BloodPressure, SkinThickness, Insulin, BMI, DiabetesPedigreeFunction to Outcome_1: \n",
            "Pregnancies:  4.865671641791045\n",
            "Glucose:  141.25746268656715\n",
            "BloodPressure:  70.82462686567165\n",
            "SkinThickness:  22.16417910447761\n",
            "Insulin:  100.33582089552239\n",
            "BMI:  35.14253731343284\n",
            "DiabetesPedigreeFunction:  0.5505\n"
          ]
        }
      ],
      "source": [
        "data_Pr = []\n",
        "data_glu = []\n",
        "data_Bl = []\n",
        "data_Sk = []\n",
        "data_Ins = []\n",
        "data_BM = []\n",
        "data_DI = []\n",
        "\n",
        "for i in range (0,len(data['Age'])):\n",
        "  if(data['Outcome'].iloc[i] == 1):\n",
        "    data_Pr.append(data['Pregnancies'].iloc[i])\n",
        "    data_glu.append(data['Glucose'].iloc[i])\n",
        "    data_Bl.append(data['BloodPressure'].iloc[i])\n",
        "    data_Sk.append(data['SkinThickness'].iloc[i])\n",
        "    data_Ins.append(data['Insulin'].iloc[i])\n",
        "    data_BM.append(data['BMI'].iloc[i])\n",
        "    data_DI.append(data['DiabetesPedigreeFunction'].iloc[i])\n",
        "\n",
        "print ('Mean of Pregnancies, Glucose, BloodPressure, SkinThickness, Insulin, BMI, DiabetesPedigreeFunction to Outcome_1: ')\n",
        "print('Pregnancies: ',np.mean(data_Pr))\n",
        "print('Glucose: ', np.mean(data_glu))\n",
        "print('BloodPressure: ',np.mean(data_Bl))\n",
        "print('SkinThickness: ', np.mean(data_Sk))\n",
        "print('Insulin: ',np.mean(data_Ins))\n",
        "print('BMI: ', np.mean(data_BM))\n",
        "print('DiabetesPedigreeFunction: ',np.mean(data_DI))\n"
      ]
    },
    {
      "cell_type": "code",
      "execution_count": 18,
      "id": "a88362a2",
      "metadata": {
        "execution": {
          "iopub.execute_input": "2023-02-21T07:51:21.450824Z",
          "iopub.status.busy": "2023-02-21T07:51:21.449611Z",
          "iopub.status.idle": "2023-02-21T07:51:21.461777Z",
          "shell.execute_reply": "2023-02-21T07:51:21.460366Z"
        },
        "id": "a88362a2",
        "outputId": "14c6bab8-bb93-4873-f0cc-c204e4386832",
        "papermill": {
          "duration": 0.028619,
          "end_time": "2023-02-21T07:51:21.464587",
          "exception": false,
          "start_time": "2023-02-21T07:51:21.435968",
          "status": "completed"
        },
        "tags": [],
        "colab": {
          "base_uri": "https://localhost:8080/"
        }
      },
      "outputs": [
        {
          "output_type": "stream",
          "name": "stdout",
          "text": [
            "                     Column        Mean\n",
            "0               Pregnancies   37.067164\n",
            "1                   Glucose    4.865672\n",
            "2             BloodPressure  141.257463\n",
            "3             SkinThickness   70.824627\n",
            "4                   Insulin   22.164179\n",
            "5                       BMI  100.335821\n",
            "6  DiabetesPedigreeFunction   35.142537\n",
            "7                       Age    0.550500\n"
          ]
        }
      ],
      "source": [
        "column = ['Pregnancies', 'Glucose', 'BloodPressure', 'SkinThickness', 'Insulin',\n",
        "       'BMI', 'DiabetesPedigreeFunction', 'Age']\n",
        "mean  = [np.mean(data_1), np.mean(data_Pr), np.mean(data_glu), np.mean(data_Bl), np.mean(data_Sk),np.mean(data_Ins), np.mean(data_BM),np.mean(data_DI)]\n",
        "data_mean = pd.DataFrame({'Column' : column, 'Mean':mean})\n",
        "print(data_mean)"
      ]
    },
    {
      "cell_type": "markdown",
      "id": "bf204ada",
      "metadata": {
        "id": "bf204ada",
        "papermill": {
          "duration": 0.012566,
          "end_time": "2023-02-21T07:51:21.490380",
          "exception": false,
          "start_time": "2023-02-21T07:51:21.477814",
          "status": "completed"
        },
        "tags": []
      },
      "source": [
        "Train Model"
      ]
    },
    {
      "cell_type": "code",
      "execution_count": 19,
      "id": "5931f48b",
      "metadata": {
        "execution": {
          "iopub.execute_input": "2023-02-21T07:51:21.519502Z",
          "iopub.status.busy": "2023-02-21T07:51:21.519096Z",
          "iopub.status.idle": "2023-02-21T07:51:21.527859Z",
          "shell.execute_reply": "2023-02-21T07:51:21.526399Z"
        },
        "id": "5931f48b",
        "papermill": {
          "duration": 0.026721,
          "end_time": "2023-02-21T07:51:21.530424",
          "exception": false,
          "start_time": "2023-02-21T07:51:21.503703",
          "status": "completed"
        },
        "tags": []
      },
      "outputs": [],
      "source": [
        "X = data[['Pregnancies', 'Glucose', 'BloodPressure', 'SkinThickness', 'Insulin',\\\n",
        "       'BMI', 'DiabetesPedigreeFunction', 'Age']]\n",
        "y = data['Outcome']"
      ]
    },
    {
      "cell_type": "code",
      "execution_count": 20,
      "id": "7421c9ab",
      "metadata": {
        "execution": {
          "iopub.execute_input": "2023-02-21T07:51:21.557809Z",
          "iopub.status.busy": "2023-02-21T07:51:21.557333Z",
          "iopub.status.idle": "2023-02-21T07:51:21.775162Z",
          "shell.execute_reply": "2023-02-21T07:51:21.773737Z"
        },
        "id": "7421c9ab",
        "papermill": {
          "duration": 0.234937,
          "end_time": "2023-02-21T07:51:21.778128",
          "exception": false,
          "start_time": "2023-02-21T07:51:21.543191",
          "status": "completed"
        },
        "tags": []
      },
      "outputs": [],
      "source": [
        "from sklearn.model_selection import train_test_split\n"
      ]
    },
    {
      "cell_type": "code",
      "execution_count": 21,
      "id": "f12f19c2",
      "metadata": {
        "execution": {
          "iopub.execute_input": "2023-02-21T07:51:21.806207Z",
          "iopub.status.busy": "2023-02-21T07:51:21.805797Z",
          "iopub.status.idle": "2023-02-21T07:51:21.815198Z",
          "shell.execute_reply": "2023-02-21T07:51:21.813835Z"
        },
        "id": "f12f19c2",
        "papermill": {
          "duration": 0.026389,
          "end_time": "2023-02-21T07:51:21.817897",
          "exception": false,
          "start_time": "2023-02-21T07:51:21.791508",
          "status": "completed"
        },
        "tags": []
      },
      "outputs": [],
      "source": [
        "X_train, X_test, y_train, y_test = train_test_split(X, y, test_size=0.2, random_state= 38)"
      ]
    },
    {
      "cell_type": "code",
      "execution_count": 22,
      "id": "fd680cdb",
      "metadata": {
        "execution": {
          "iopub.execute_input": "2023-02-21T07:51:21.845780Z",
          "iopub.status.busy": "2023-02-21T07:51:21.845378Z",
          "iopub.status.idle": "2023-02-21T07:51:21.932855Z",
          "shell.execute_reply": "2023-02-21T07:51:21.931669Z"
        },
        "id": "fd680cdb",
        "papermill": {
          "duration": 0.105011,
          "end_time": "2023-02-21T07:51:21.935561",
          "exception": false,
          "start_time": "2023-02-21T07:51:21.830550",
          "status": "completed"
        },
        "tags": []
      },
      "outputs": [],
      "source": [
        "from sklearn.linear_model import LogisticRegression"
      ]
    },
    {
      "cell_type": "code",
      "execution_count": 23,
      "id": "84f7d760",
      "metadata": {
        "execution": {
          "iopub.execute_input": "2023-02-21T07:51:21.962364Z",
          "iopub.status.busy": "2023-02-21T07:51:21.961975Z",
          "iopub.status.idle": "2023-02-21T07:51:21.967006Z",
          "shell.execute_reply": "2023-02-21T07:51:21.965778Z"
        },
        "id": "84f7d760",
        "papermill": {
          "duration": 0.021243,
          "end_time": "2023-02-21T07:51:21.969372",
          "exception": false,
          "start_time": "2023-02-21T07:51:21.948129",
          "status": "completed"
        },
        "tags": []
      },
      "outputs": [],
      "source": [
        "model = LogisticRegression()"
      ]
    },
    {
      "cell_type": "code",
      "execution_count": 24,
      "id": "76ce54c3",
      "metadata": {
        "execution": {
          "iopub.execute_input": "2023-02-21T07:51:21.996366Z",
          "iopub.status.busy": "2023-02-21T07:51:21.995986Z",
          "iopub.status.idle": "2023-02-21T07:51:22.038332Z",
          "shell.execute_reply": "2023-02-21T07:51:22.037147Z"
        },
        "id": "76ce54c3",
        "outputId": "f145f6c8-6ee0-4b53-92d7-0840b07eb039",
        "papermill": {
          "duration": 0.059287,
          "end_time": "2023-02-21T07:51:22.041160",
          "exception": false,
          "start_time": "2023-02-21T07:51:21.981873",
          "status": "completed"
        },
        "tags": [],
        "colab": {
          "base_uri": "https://localhost:8080/",
          "height": 238
        }
      },
      "outputs": [
        {
          "output_type": "stream",
          "name": "stderr",
          "text": [
            "/usr/local/lib/python3.10/dist-packages/sklearn/linear_model/_logistic.py:458: ConvergenceWarning: lbfgs failed to converge (status=1):\n",
            "STOP: TOTAL NO. of ITERATIONS REACHED LIMIT.\n",
            "\n",
            "Increase the number of iterations (max_iter) or scale the data as shown in:\n",
            "    https://scikit-learn.org/stable/modules/preprocessing.html\n",
            "Please also refer to the documentation for alternative solver options:\n",
            "    https://scikit-learn.org/stable/modules/linear_model.html#logistic-regression\n",
            "  n_iter_i = _check_optimize_result(\n"
          ]
        },
        {
          "output_type": "execute_result",
          "data": {
            "text/plain": [
              "LogisticRegression()"
            ],
            "text/html": [
              "<style>#sk-container-id-1 {color: black;background-color: white;}#sk-container-id-1 pre{padding: 0;}#sk-container-id-1 div.sk-toggleable {background-color: white;}#sk-container-id-1 label.sk-toggleable__label {cursor: pointer;display: block;width: 100%;margin-bottom: 0;padding: 0.3em;box-sizing: border-box;text-align: center;}#sk-container-id-1 label.sk-toggleable__label-arrow:before {content: \"▸\";float: left;margin-right: 0.25em;color: #696969;}#sk-container-id-1 label.sk-toggleable__label-arrow:hover:before {color: black;}#sk-container-id-1 div.sk-estimator:hover label.sk-toggleable__label-arrow:before {color: black;}#sk-container-id-1 div.sk-toggleable__content {max-height: 0;max-width: 0;overflow: hidden;text-align: left;background-color: #f0f8ff;}#sk-container-id-1 div.sk-toggleable__content pre {margin: 0.2em;color: black;border-radius: 0.25em;background-color: #f0f8ff;}#sk-container-id-1 input.sk-toggleable__control:checked~div.sk-toggleable__content {max-height: 200px;max-width: 100%;overflow: auto;}#sk-container-id-1 input.sk-toggleable__control:checked~label.sk-toggleable__label-arrow:before {content: \"▾\";}#sk-container-id-1 div.sk-estimator input.sk-toggleable__control:checked~label.sk-toggleable__label {background-color: #d4ebff;}#sk-container-id-1 div.sk-label input.sk-toggleable__control:checked~label.sk-toggleable__label {background-color: #d4ebff;}#sk-container-id-1 input.sk-hidden--visually {border: 0;clip: rect(1px 1px 1px 1px);clip: rect(1px, 1px, 1px, 1px);height: 1px;margin: -1px;overflow: hidden;padding: 0;position: absolute;width: 1px;}#sk-container-id-1 div.sk-estimator {font-family: monospace;background-color: #f0f8ff;border: 1px dotted black;border-radius: 0.25em;box-sizing: border-box;margin-bottom: 0.5em;}#sk-container-id-1 div.sk-estimator:hover {background-color: #d4ebff;}#sk-container-id-1 div.sk-parallel-item::after {content: \"\";width: 100%;border-bottom: 1px solid gray;flex-grow: 1;}#sk-container-id-1 div.sk-label:hover label.sk-toggleable__label {background-color: #d4ebff;}#sk-container-id-1 div.sk-serial::before {content: \"\";position: absolute;border-left: 1px solid gray;box-sizing: border-box;top: 0;bottom: 0;left: 50%;z-index: 0;}#sk-container-id-1 div.sk-serial {display: flex;flex-direction: column;align-items: center;background-color: white;padding-right: 0.2em;padding-left: 0.2em;position: relative;}#sk-container-id-1 div.sk-item {position: relative;z-index: 1;}#sk-container-id-1 div.sk-parallel {display: flex;align-items: stretch;justify-content: center;background-color: white;position: relative;}#sk-container-id-1 div.sk-item::before, #sk-container-id-1 div.sk-parallel-item::before {content: \"\";position: absolute;border-left: 1px solid gray;box-sizing: border-box;top: 0;bottom: 0;left: 50%;z-index: -1;}#sk-container-id-1 div.sk-parallel-item {display: flex;flex-direction: column;z-index: 1;position: relative;background-color: white;}#sk-container-id-1 div.sk-parallel-item:first-child::after {align-self: flex-end;width: 50%;}#sk-container-id-1 div.sk-parallel-item:last-child::after {align-self: flex-start;width: 50%;}#sk-container-id-1 div.sk-parallel-item:only-child::after {width: 0;}#sk-container-id-1 div.sk-dashed-wrapped {border: 1px dashed gray;margin: 0 0.4em 0.5em 0.4em;box-sizing: border-box;padding-bottom: 0.4em;background-color: white;}#sk-container-id-1 div.sk-label label {font-family: monospace;font-weight: bold;display: inline-block;line-height: 1.2em;}#sk-container-id-1 div.sk-label-container {text-align: center;}#sk-container-id-1 div.sk-container {/* jupyter's `normalize.less` sets `[hidden] { display: none; }` but bootstrap.min.css set `[hidden] { display: none !important; }` so we also need the `!important` here to be able to override the default hidden behavior on the sphinx rendered scikit-learn.org. See: https://github.com/scikit-learn/scikit-learn/issues/21755 */display: inline-block !important;position: relative;}#sk-container-id-1 div.sk-text-repr-fallback {display: none;}</style><div id=\"sk-container-id-1\" class=\"sk-top-container\"><div class=\"sk-text-repr-fallback\"><pre>LogisticRegression()</pre><b>In a Jupyter environment, please rerun this cell to show the HTML representation or trust the notebook. <br />On GitHub, the HTML representation is unable to render, please try loading this page with nbviewer.org.</b></div><div class=\"sk-container\" hidden><div class=\"sk-item\"><div class=\"sk-estimator sk-toggleable\"><input class=\"sk-toggleable__control sk-hidden--visually\" id=\"sk-estimator-id-1\" type=\"checkbox\" checked><label for=\"sk-estimator-id-1\" class=\"sk-toggleable__label sk-toggleable__label-arrow\">LogisticRegression</label><div class=\"sk-toggleable__content\"><pre>LogisticRegression()</pre></div></div></div></div></div>"
            ]
          },
          "metadata": {},
          "execution_count": 24
        }
      ],
      "source": [
        "model.fit(X_train, y_train)"
      ]
    },
    {
      "cell_type": "code",
      "execution_count": 25,
      "id": "24c88469",
      "metadata": {
        "execution": {
          "iopub.execute_input": "2023-02-21T07:51:22.068628Z",
          "iopub.status.busy": "2023-02-21T07:51:22.068238Z",
          "iopub.status.idle": "2023-02-21T07:51:22.079901Z",
          "shell.execute_reply": "2023-02-21T07:51:22.078511Z"
        },
        "id": "24c88469",
        "outputId": "30a324f0-5ae3-4988-ba62-20012100258f",
        "papermill": {
          "duration": 0.028661,
          "end_time": "2023-02-21T07:51:22.082731",
          "exception": false,
          "start_time": "2023-02-21T07:51:22.054070",
          "status": "completed"
        },
        "tags": [],
        "colab": {
          "base_uri": "https://localhost:8080/"
        }
      },
      "outputs": [
        {
          "output_type": "execute_result",
          "data": {
            "text/plain": [
              "0.7687296416938111"
            ]
          },
          "metadata": {},
          "execution_count": 25
        }
      ],
      "source": [
        "model.score(X_train, y_train)"
      ]
    },
    {
      "cell_type": "code",
      "execution_count": 26,
      "id": "9972d766",
      "metadata": {
        "execution": {
          "iopub.execute_input": "2023-02-21T07:51:22.111231Z",
          "iopub.status.busy": "2023-02-21T07:51:22.110782Z",
          "iopub.status.idle": "2023-02-21T07:51:22.120726Z",
          "shell.execute_reply": "2023-02-21T07:51:22.119857Z"
        },
        "id": "9972d766",
        "outputId": "b972272b-4a2a-45eb-b537-4fe372265842",
        "papermill": {
          "duration": 0.027272,
          "end_time": "2023-02-21T07:51:22.123056",
          "exception": false,
          "start_time": "2023-02-21T07:51:22.095784",
          "status": "completed"
        },
        "tags": [],
        "colab": {
          "base_uri": "https://localhost:8080/"
        }
      },
      "outputs": [
        {
          "output_type": "execute_result",
          "data": {
            "text/plain": [
              "0.7857142857142857"
            ]
          },
          "metadata": {},
          "execution_count": 26
        }
      ],
      "source": [
        "model.score(X_test, y_test)"
      ]
    },
    {
      "cell_type": "code",
      "execution_count": 27,
      "id": "3af5af34",
      "metadata": {
        "execution": {
          "iopub.execute_input": "2023-02-21T07:51:22.152354Z",
          "iopub.status.busy": "2023-02-21T07:51:22.151917Z",
          "iopub.status.idle": "2023-02-21T07:51:22.159579Z",
          "shell.execute_reply": "2023-02-21T07:51:22.158266Z"
        },
        "id": "3af5af34",
        "papermill": {
          "duration": 0.025083,
          "end_time": "2023-02-21T07:51:22.162036",
          "exception": false,
          "start_time": "2023-02-21T07:51:22.136953",
          "status": "completed"
        },
        "tags": []
      },
      "outputs": [],
      "source": [
        "predict = model.predict(X_test)"
      ]
    },
    {
      "cell_type": "code",
      "execution_count": 28,
      "id": "768d489b",
      "metadata": {
        "execution": {
          "iopub.execute_input": "2023-02-21T07:51:22.189983Z",
          "iopub.status.busy": "2023-02-21T07:51:22.189379Z",
          "iopub.status.idle": "2023-02-21T07:51:22.198103Z",
          "shell.execute_reply": "2023-02-21T07:51:22.196857Z"
        },
        "id": "768d489b",
        "outputId": "895fa690-d075-4179-c3b6-5d39014f5cfa",
        "papermill": {
          "duration": 0.025422,
          "end_time": "2023-02-21T07:51:22.200601",
          "exception": false,
          "start_time": "2023-02-21T07:51:22.175179",
          "status": "completed"
        },
        "tags": [],
        "colab": {
          "base_uri": "https://localhost:8080/"
        }
      },
      "outputs": [
        {
          "output_type": "execute_result",
          "data": {
            "text/plain": [
              "array([0, 1, 0, 1, 1, 0, 0, 1, 0, 0, 0, 1, 0, 1, 0, 0, 1, 0, 0, 0, 1, 0,\n",
              "       0, 0, 0, 0, 0, 0, 0, 1, 1, 0, 1, 0, 0, 1, 1, 0, 0, 0, 0, 0, 0, 0,\n",
              "       0, 0, 0, 1, 0, 0, 1, 0, 1, 0, 1, 0, 0, 1, 1, 1, 0, 0, 0, 0, 1, 0,\n",
              "       1, 1, 0, 0, 1, 0, 0, 1, 0, 0, 1, 0, 0, 0, 1, 0, 0, 0, 1, 0, 0, 0,\n",
              "       0, 1, 1, 0, 0, 0, 0, 0, 1, 1, 0, 0, 0, 0, 1, 0, 0, 1, 0, 0, 0, 0,\n",
              "       1, 0, 0, 0, 0, 1, 0, 0, 0, 0, 0, 0, 0, 1, 0, 0, 0, 0, 0, 0, 0, 0,\n",
              "       0, 1, 0, 0, 0, 1, 0, 0, 1, 0, 0, 0, 0, 0, 0, 0, 0, 0, 0, 0, 0, 0])"
            ]
          },
          "metadata": {},
          "execution_count": 28
        }
      ],
      "source": [
        "predict"
      ]
    },
    {
      "cell_type": "code",
      "execution_count": 29,
      "id": "34843d9c",
      "metadata": {
        "execution": {
          "iopub.execute_input": "2023-02-21T07:51:22.229531Z",
          "iopub.status.busy": "2023-02-21T07:51:22.229138Z",
          "iopub.status.idle": "2023-02-21T07:51:22.238175Z",
          "shell.execute_reply": "2023-02-21T07:51:22.237229Z"
        },
        "id": "34843d9c",
        "outputId": "c600d377-bc1d-42bc-bee3-7a99ab2f8bd6",
        "papermill": {
          "duration": 0.025972,
          "end_time": "2023-02-21T07:51:22.240667",
          "exception": false,
          "start_time": "2023-02-21T07:51:22.214695",
          "status": "completed"
        },
        "tags": [],
        "colab": {
          "base_uri": "https://localhost:8080/"
        }
      },
      "outputs": [
        {
          "output_type": "execute_result",
          "data": {
            "text/plain": [
              "Pregnancies                   2.000\n",
              "Glucose                     197.000\n",
              "BloodPressure                70.000\n",
              "SkinThickness                99.000\n",
              "Insulin                       0.000\n",
              "BMI                          34.700\n",
              "DiabetesPedigreeFunction      0.575\n",
              "Age                          62.000\n",
              "Name: 579, dtype: float64"
            ]
          },
          "metadata": {},
          "execution_count": 29
        }
      ],
      "source": [
        "Xtest = X_test.iloc[1]\n",
        "Xtest"
      ]
    },
    {
      "cell_type": "code",
      "execution_count": 30,
      "id": "d29c7b41",
      "metadata": {
        "execution": {
          "iopub.execute_input": "2023-02-21T07:51:22.269424Z",
          "iopub.status.busy": "2023-02-21T07:51:22.269014Z",
          "iopub.status.idle": "2023-02-21T07:51:22.274628Z",
          "shell.execute_reply": "2023-02-21T07:51:22.273845Z"
        },
        "id": "d29c7b41",
        "outputId": "9ec50724-9644-4972-af1a-c4be97b9eb69",
        "papermill": {
          "duration": 0.023004,
          "end_time": "2023-02-21T07:51:22.277114",
          "exception": false,
          "start_time": "2023-02-21T07:51:22.254110",
          "status": "completed"
        },
        "tags": [],
        "colab": {
          "base_uri": "https://localhost:8080/"
        }
      },
      "outputs": [
        {
          "output_type": "execute_result",
          "data": {
            "text/plain": [
              "array([-7.83539425])"
            ]
          },
          "metadata": {},
          "execution_count": 30
        }
      ],
      "source": [
        "BO = model.intercept_\n",
        "BO"
      ]
    },
    {
      "cell_type": "code",
      "execution_count": 31,
      "id": "48c594d2",
      "metadata": {
        "execution": {
          "iopub.execute_input": "2023-02-21T07:51:22.306596Z",
          "iopub.status.busy": "2023-02-21T07:51:22.305976Z",
          "iopub.status.idle": "2023-02-21T07:51:22.312874Z",
          "shell.execute_reply": "2023-02-21T07:51:22.311537Z"
        },
        "id": "48c594d2",
        "outputId": "5a178880-62a7-436c-a98a-95100f04f658",
        "papermill": {
          "duration": 0.024484,
          "end_time": "2023-02-21T07:51:22.315467",
          "exception": false,
          "start_time": "2023-02-21T07:51:22.290983",
          "status": "completed"
        },
        "tags": [],
        "colab": {
          "base_uri": "https://localhost:8080/"
        }
      },
      "outputs": [
        {
          "output_type": "execute_result",
          "data": {
            "text/plain": [
              "array([[ 0.12513779,  0.03719165, -0.01798794,  0.00186274, -0.00129246,\n",
              "         0.07876437,  0.61101296,  0.01465224]])"
            ]
          },
          "metadata": {},
          "execution_count": 31
        }
      ],
      "source": [
        "# B1, B2..\n",
        "Bi = model.coef_\n",
        "Bi"
      ]
    },
    {
      "cell_type": "code",
      "execution_count": 32,
      "id": "0a8cd8f4",
      "metadata": {
        "execution": {
          "iopub.execute_input": "2023-02-21T07:51:22.345498Z",
          "iopub.status.busy": "2023-02-21T07:51:22.344744Z",
          "iopub.status.idle": "2023-02-21T07:51:22.351426Z",
          "shell.execute_reply": "2023-02-21T07:51:22.350403Z"
        },
        "id": "0a8cd8f4",
        "papermill": {
          "duration": 0.024872,
          "end_time": "2023-02-21T07:51:22.354057",
          "exception": false,
          "start_time": "2023-02-21T07:51:22.329185",
          "status": "completed"
        },
        "tags": []
      },
      "outputs": [],
      "source": [
        "f = BO + Bi[0][0]*Xtest[0] + Bi[0][1]*Xtest[1] + Bi[0][2]*Xtest[2] + Bi[0][3]*Xtest[3] + Bi[0][4]*Xtest[4]\\\n",
        "+ Bi[0][5]*Xtest[5] + Bi[0][6]*Xtest[6]  + Bi[0][7]*Xtest[7]  "
      ]
    },
    {
      "cell_type": "code",
      "execution_count": 33,
      "id": "c5cc27e0",
      "metadata": {
        "execution": {
          "iopub.execute_input": "2023-02-21T07:51:22.384931Z",
          "iopub.status.busy": "2023-02-21T07:51:22.384164Z",
          "iopub.status.idle": "2023-02-21T07:51:22.390190Z",
          "shell.execute_reply": "2023-02-21T07:51:22.389323Z"
        },
        "id": "c5cc27e0",
        "outputId": "60019519-659b-4b94-b428-6b8d41267b40",
        "papermill": {
          "duration": 0.024807,
          "end_time": "2023-02-21T07:51:22.392455",
          "exception": false,
          "start_time": "2023-02-21T07:51:22.367648",
          "status": "completed"
        },
        "tags": [],
        "colab": {
          "base_uri": "https://localhost:8080/"
        }
      },
      "outputs": [
        {
          "output_type": "execute_result",
          "data": {
            "text/plain": [
              "array([2.6597878])"
            ]
          },
          "metadata": {},
          "execution_count": 33
        }
      ],
      "source": [
        "f\n"
      ]
    },
    {
      "cell_type": "code",
      "execution_count": 34,
      "id": "05dc0d20",
      "metadata": {
        "execution": {
          "iopub.execute_input": "2023-02-21T07:51:22.423115Z",
          "iopub.status.busy": "2023-02-21T07:51:22.422407Z",
          "iopub.status.idle": "2023-02-21T07:51:22.429859Z",
          "shell.execute_reply": "2023-02-21T07:51:22.428884Z"
        },
        "id": "05dc0d20",
        "outputId": "044b6a6a-fcbc-4988-ebf1-da0b84a160f0",
        "papermill": {
          "duration": 0.025791,
          "end_time": "2023-02-21T07:51:22.432390",
          "exception": false,
          "start_time": "2023-02-21T07:51:22.406599",
          "status": "completed"
        },
        "tags": [],
        "colab": {
          "base_uri": "https://localhost:8080/"
        }
      },
      "outputs": [
        {
          "output_type": "execute_result",
          "data": {
            "text/plain": [
              "array([1.])"
            ]
          },
          "metadata": {},
          "execution_count": 34
        }
      ],
      "source": [
        "import math \n",
        "P_Y = ((math.e**f) / (1+math.e**f)).round()\n",
        "P_Y # P_Y is the prediction result of the first person data -> 0.12 we round to 0"
      ]
    },
    {
      "cell_type": "code",
      "execution_count": 35,
      "id": "edea7278",
      "metadata": {
        "execution": {
          "iopub.execute_input": "2023-02-21T07:51:22.462673Z",
          "iopub.status.busy": "2023-02-21T07:51:22.461435Z",
          "iopub.status.idle": "2023-02-21T07:51:22.472265Z",
          "shell.execute_reply": "2023-02-21T07:51:22.470790Z"
        },
        "id": "edea7278",
        "outputId": "aa2f526b-cce9-41ef-840a-915593fecc16",
        "papermill": {
          "duration": 0.028832,
          "end_time": "2023-02-21T07:51:22.475147",
          "exception": false,
          "start_time": "2023-02-21T07:51:22.446315",
          "status": "completed"
        },
        "tags": [],
        "colab": {
          "base_uri": "https://localhost:8080/"
        }
      },
      "outputs": [
        {
          "output_type": "stream",
          "name": "stdout",
          "text": [
            "              precision    recall  f1-score   support\n",
            "\n",
            "           0       0.80      0.90      0.85       101\n",
            "           1       0.75      0.57      0.65        53\n",
            "\n",
            "    accuracy                           0.79       154\n",
            "   macro avg       0.77      0.73      0.75       154\n",
            "weighted avg       0.78      0.79      0.78       154\n",
            "\n"
          ]
        }
      ],
      "source": [
        "from sklearn.metrics import classification_report\n",
        "print(classification_report(y_test,predict))"
      ]
    },
    {
      "cell_type": "code",
      "execution_count": null,
      "id": "89b8d0fe",
      "metadata": {
        "id": "89b8d0fe",
        "papermill": {
          "duration": 0.013515,
          "end_time": "2023-02-21T07:51:22.503080",
          "exception": false,
          "start_time": "2023-02-21T07:51:22.489565",
          "status": "completed"
        },
        "tags": []
      },
      "outputs": [],
      "source": []
    }
  ],
  "metadata": {
    "kernelspec": {
      "display_name": "Python 3",
      "language": "python",
      "name": "python3"
    },
    "language_info": {
      "codemirror_mode": {
        "name": "ipython",
        "version": 3
      },
      "file_extension": ".py",
      "mimetype": "text/x-python",
      "name": "python",
      "nbconvert_exporter": "python",
      "pygments_lexer": "ipython3",
      "version": "3.7.12"
    },
    "papermill": {
      "default_parameters": {},
      "duration": 16.333577,
      "end_time": "2023-02-21T07:51:23.340832",
      "environment_variables": {},
      "exception": null,
      "input_path": "__notebook__.ipynb",
      "output_path": "__notebook__.ipynb",
      "parameters": {},
      "start_time": "2023-02-21T07:51:07.007255",
      "version": "2.3.4"
    },
    "colab": {
      "provenance": []
    }
  },
  "nbformat": 4,
  "nbformat_minor": 5
}